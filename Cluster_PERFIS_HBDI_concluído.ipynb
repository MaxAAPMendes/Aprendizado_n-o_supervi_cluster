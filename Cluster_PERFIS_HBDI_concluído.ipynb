{
 "cells": [
  {
   "cell_type": "markdown",
   "metadata": {},
   "source": [
    "<h3>Disciplina: Apredizado Não supervisionado</h3>\n",
    "\n",
    "<span style='font-weight:bold'>Alunos:</span>\n",
    "<ul>\n",
    "    <li>Max Pinheiro</li>\n",
    "    <li>Tiago Rocha</li>\n",
    "    <li>Francisco J dos Santos</li>\n",
    "<ul>"
   ]
  },
  {
   "cell_type": "markdown",
   "metadata": {},
   "source": [
    "<h1>Agrupamento de Perfis - Teste HBDI </h1>\n",
    "<p><strong>Contexto</strong></p>\n",
    "<p>Agrupar pessoas levando em consideração os perfis comportamentais, mapeados com o resultado do Teste HDBI.</p>"
   ]
  },
  {
   "cell_type": "markdown",
   "metadata": {},
   "source": [
    "<h4>O teste HBDI</h4>\n",
    "<p>O HBDI ou Teste de Dominância Cerebral baseia-se em questões propostas nos estudos de Ned Hermann sobre criatividade e dominância Cerebral.</p>\n",
    "\n",
    "<p>O HBDI \"classifica os estilos de pensamento em relacao ao lado do cerebro dominante. Pessoas dominadas pelo lado esquerdo sao descritas como analiticas, logicas e sequenciais. As dominadas pelo lado direito sao mais intuitivas, baseadas em valores e nao-lineares.\"</p><small style='color: gray'>fonte: https://www.personalidades.mobi/Dominancia_Cerebral/</small>\n",
    "\n",
    "<p>De acordo com um conjunto de 40 perguntas objetivas, cada uma com peso 1, calcula-se a soma dos resultados de cada grupo o que poderá indicar a qual predominância cerebral do participante:</p>\n",
    "<ul>\n",
    "    <li>Experimental</li>\n",
    "    <li>Analítico</li>\n",
    "    <li>Relacional</li>\n",
    "    <li>Prático</li>\n",
    "</ul>"
   ]
  },
  {
   "cell_type": "markdown",
   "metadata": {},
   "source": [
    "<h4>Uso do HBDI</h4>\n",
    "\n",
    "<p>A organização utiliza o resultado do HBDI para formar times que participarão de projetos ou atividades criativas.</p>\n",
    "<p>Em muitos casos há a necessidade de que o time a ser formado seja composto por pessoas com carcterísticas distintas, heterogêneas e multidisciplinares.</p>\n",
    "<p>Práticas, indicam que mantendo pessoas com diferentes características tende a contribuir fortemente com o sucesso dos trabalhos. </p>"
   ]
  },
  {
   "cell_type": "markdown",
   "metadata": {},
   "source": [
    "<h4>O Problema</h4>\n",
    "\n",
    "<p>Alguns testes apresentam resultados que tornam difícil a classificação da predominância em um dos grupos (Experimental, Analítico, Relacional ou Prático), como os exemplos abaixo:</p>\n",
    "\n",
    "<table>\n",
    "    <tr style='font-weight: bold;'>\n",
    "        <td>Participante</td>\n",
    "        <td>Experimental</td>\n",
    "        <td>Analítico</td>\n",
    "        <td>Relacional</td>\n",
    "        <td>Prático</td>\n",
    "    </tr>\n",
    "    <tr>\n",
    "        <td>A</td>\n",
    "        <td>6</td>\n",
    "        <td>11</td>\n",
    "        <td>12</td>\n",
    "        <td>11</td>\n",
    "    </tr>\n",
    "    <tr>\n",
    "        <td>B</td>\n",
    "        <td>12</td>\n",
    "        <td>10</td>\n",
    "        <td>10</td>\n",
    "        <td>8</td>\n",
    "    </tr>\n",
    "    <tr>\n",
    "        <td>C</td>\n",
    "        <td>11</td>\n",
    "        <td>11</td>\n",
    "        <td>12</td>\n",
    "        <td>6</td>\n",
    "    </tr>\n",
    "</table>\n",
    "\n",
    "<p>Como classificar em um dos grupos os participantes acima?</p>"
   ]
  },
  {
   "cell_type": "markdown",
   "metadata": {},
   "source": [
    "<h4>Proposta de Solução</h4>\n",
    "<p>Utilizar o processo para agrupamento de dados, <strong>K-means</strong>, baseando-se no conceito de similaridade entre as variáveis, encontrar semelhnaças de acordo com os atributos de cada participante.</p>\n",
    "\n",
    "<p>O resultado esperado será classes ou grupos de pessoas com caraterísticas próximas.</p>"
   ]
  },
  {
   "cell_type": "markdown",
   "metadata": {},
   "source": [
    "<h4>Bibliotecas necessárias</h4>"
   ]
  },
  {
   "cell_type": "code",
   "execution_count": 1,
   "metadata": {},
   "outputs": [],
   "source": [
    "import pandas as pd\n",
    "from sklearn.cluster import KMeans\n",
    "import numpy as np\n",
    "import matplotlib.pyplot as plt\n",
    "#from sklearn.preprocessing import StandardScaler\n",
    "#from sklearn.decomposition import PCA"
   ]
  },
  {
   "cell_type": "markdown",
   "metadata": {},
   "source": [
    "<h4>A base de dados</h4>"
   ]
  },
  {
   "cell_type": "code",
   "execution_count": 2,
   "metadata": {},
   "outputs": [],
   "source": [
    "#base com as características dos participantes, obtidas nos testes\n",
    "dados = pd.read_csv('C:/Developer/base_teste_hbdi.csv')"
   ]
  },
  {
   "cell_type": "code",
   "execution_count": 3,
   "metadata": {},
   "outputs": [
    {
     "data": {
      "text/plain": [
       "(310, 9)"
      ]
     },
     "execution_count": 3,
     "metadata": {},
     "output_type": "execute_result"
    }
   ],
   "source": [
    "dados.shape"
   ]
  },
  {
   "cell_type": "code",
   "execution_count": 4,
   "metadata": {},
   "outputs": [
    {
     "data": {
      "text/html": [
       "<div>\n",
       "<style scoped>\n",
       "    .dataframe tbody tr th:only-of-type {\n",
       "        vertical-align: middle;\n",
       "    }\n",
       "\n",
       "    .dataframe tbody tr th {\n",
       "        vertical-align: top;\n",
       "    }\n",
       "\n",
       "    .dataframe thead th {\n",
       "        text-align: right;\n",
       "    }\n",
       "</style>\n",
       "<table border=\"1\" class=\"dataframe\">\n",
       "  <thead>\n",
       "    <tr style=\"text-align: right;\">\n",
       "      <th></th>\n",
       "      <th>userId</th>\n",
       "      <th>userName</th>\n",
       "      <th>userCode</th>\n",
       "      <th>management</th>\n",
       "      <th>countSD</th>\n",
       "      <th>countSE</th>\n",
       "      <th>countID</th>\n",
       "      <th>countIE</th>\n",
       "      <th>dataRegistro</th>\n",
       "    </tr>\n",
       "  </thead>\n",
       "  <tbody>\n",
       "    <tr>\n",
       "      <th>0</th>\n",
       "      <td>2</td>\n",
       "      <td>Max Pinheiro</td>\n",
       "      <td>F7098849</td>\n",
       "      <td>8969</td>\n",
       "      <td>6</td>\n",
       "      <td>16</td>\n",
       "      <td>6</td>\n",
       "      <td>12</td>\n",
       "      <td>2019-01-11 10:01:17</td>\n",
       "    </tr>\n",
       "    <tr>\n",
       "      <th>1</th>\n",
       "      <td>3</td>\n",
       "      <td>MARCELO SCHARMACH</td>\n",
       "      <td>F6771265</td>\n",
       "      <td>8969</td>\n",
       "      <td>22</td>\n",
       "      <td>3</td>\n",
       "      <td>14</td>\n",
       "      <td>1</td>\n",
       "      <td>2019-01-11 10:01:17</td>\n",
       "    </tr>\n",
       "    <tr>\n",
       "      <th>2</th>\n",
       "      <td>4</td>\n",
       "      <td>Juliana</td>\n",
       "      <td>F6002194</td>\n",
       "      <td>8969</td>\n",
       "      <td>14</td>\n",
       "      <td>8</td>\n",
       "      <td>13</td>\n",
       "      <td>5</td>\n",
       "      <td>2019-01-11 10:01:17</td>\n",
       "    </tr>\n",
       "    <tr>\n",
       "      <th>3</th>\n",
       "      <td>5</td>\n",
       "      <td>Leonardo Meneses de Lima</td>\n",
       "      <td>f6210447</td>\n",
       "      <td>8558</td>\n",
       "      <td>20</td>\n",
       "      <td>5</td>\n",
       "      <td>13</td>\n",
       "      <td>2</td>\n",
       "      <td>2019-01-11 10:01:17</td>\n",
       "    </tr>\n",
       "    <tr>\n",
       "      <th>4</th>\n",
       "      <td>6</td>\n",
       "      <td>Alessandra Camargo Vieira</td>\n",
       "      <td>f0427258</td>\n",
       "      <td>8558</td>\n",
       "      <td>9</td>\n",
       "      <td>3</td>\n",
       "      <td>21</td>\n",
       "      <td>7</td>\n",
       "      <td>2019-01-11 10:01:17</td>\n",
       "    </tr>\n",
       "  </tbody>\n",
       "</table>\n",
       "</div>"
      ],
      "text/plain": [
       "   userId                   userName  userCode  management  countSD  countSE  \\\n",
       "0       2               Max Pinheiro  F7098849        8969        6       16   \n",
       "1       3          MARCELO SCHARMACH  F6771265        8969       22        3   \n",
       "2       4                    Juliana  F6002194        8969       14        8   \n",
       "3       5   Leonardo Meneses de Lima  f6210447        8558       20        5   \n",
       "4       6  Alessandra Camargo Vieira  f0427258        8558        9        3   \n",
       "\n",
       "   countID  countIE         dataRegistro  \n",
       "0        6       12  2019-01-11 10:01:17  \n",
       "1       14        1  2019-01-11 10:01:17  \n",
       "2       13        5  2019-01-11 10:01:17  \n",
       "3       13        2  2019-01-11 10:01:17  \n",
       "4       21        7  2019-01-11 10:01:17  "
      ]
     },
     "execution_count": 4,
     "metadata": {},
     "output_type": "execute_result"
    }
   ],
   "source": [
    "dados.head()"
   ]
  },
  {
   "cell_type": "code",
   "execution_count": 5,
   "metadata": {},
   "outputs": [
    {
     "data": {
      "text/html": [
       "<div>\n",
       "<style scoped>\n",
       "    .dataframe tbody tr th:only-of-type {\n",
       "        vertical-align: middle;\n",
       "    }\n",
       "\n",
       "    .dataframe tbody tr th {\n",
       "        vertical-align: top;\n",
       "    }\n",
       "\n",
       "    .dataframe thead th {\n",
       "        text-align: right;\n",
       "    }\n",
       "</style>\n",
       "<table border=\"1\" class=\"dataframe\">\n",
       "  <thead>\n",
       "    <tr style=\"text-align: right;\">\n",
       "      <th></th>\n",
       "      <th>userId</th>\n",
       "      <th>userName</th>\n",
       "      <th>userCode</th>\n",
       "      <th>management</th>\n",
       "      <th>countSD</th>\n",
       "      <th>countSE</th>\n",
       "      <th>countID</th>\n",
       "      <th>countIE</th>\n",
       "      <th>dataRegistro</th>\n",
       "    </tr>\n",
       "  </thead>\n",
       "  <tbody>\n",
       "    <tr>\n",
       "      <th>0</th>\n",
       "      <td>2</td>\n",
       "      <td>Max Pinheiro</td>\n",
       "      <td>F7098849</td>\n",
       "      <td>8969</td>\n",
       "      <td>6</td>\n",
       "      <td>16</td>\n",
       "      <td>6</td>\n",
       "      <td>12</td>\n",
       "      <td>2019-01-11 10:01:17</td>\n",
       "    </tr>\n",
       "    <tr>\n",
       "      <th>1</th>\n",
       "      <td>3</td>\n",
       "      <td>MARCELO SCHARMACH</td>\n",
       "      <td>F6771265</td>\n",
       "      <td>8969</td>\n",
       "      <td>22</td>\n",
       "      <td>3</td>\n",
       "      <td>14</td>\n",
       "      <td>1</td>\n",
       "      <td>2019-01-11 10:01:17</td>\n",
       "    </tr>\n",
       "    <tr>\n",
       "      <th>2</th>\n",
       "      <td>4</td>\n",
       "      <td>Juliana</td>\n",
       "      <td>F6002194</td>\n",
       "      <td>8969</td>\n",
       "      <td>14</td>\n",
       "      <td>8</td>\n",
       "      <td>13</td>\n",
       "      <td>5</td>\n",
       "      <td>2019-01-11 10:01:17</td>\n",
       "    </tr>\n",
       "    <tr>\n",
       "      <th>3</th>\n",
       "      <td>5</td>\n",
       "      <td>Leonardo Meneses de Lima</td>\n",
       "      <td>f6210447</td>\n",
       "      <td>8558</td>\n",
       "      <td>20</td>\n",
       "      <td>5</td>\n",
       "      <td>13</td>\n",
       "      <td>2</td>\n",
       "      <td>2019-01-11 10:01:17</td>\n",
       "    </tr>\n",
       "    <tr>\n",
       "      <th>4</th>\n",
       "      <td>6</td>\n",
       "      <td>Alessandra Camargo Vieira</td>\n",
       "      <td>f0427258</td>\n",
       "      <td>8558</td>\n",
       "      <td>9</td>\n",
       "      <td>3</td>\n",
       "      <td>21</td>\n",
       "      <td>7</td>\n",
       "      <td>2019-01-11 10:01:17</td>\n",
       "    </tr>\n",
       "  </tbody>\n",
       "</table>\n",
       "</div>"
      ],
      "text/plain": [
       "   userId                   userName  userCode  management  countSD  countSE  \\\n",
       "0       2               Max Pinheiro  F7098849        8969        6       16   \n",
       "1       3          MARCELO SCHARMACH  F6771265        8969       22        3   \n",
       "2       4                    Juliana  F6002194        8969       14        8   \n",
       "3       5   Leonardo Meneses de Lima  f6210447        8558       20        5   \n",
       "4       6  Alessandra Camargo Vieira  f0427258        8558        9        3   \n",
       "\n",
       "   countID  countIE         dataRegistro  \n",
       "0        6       12  2019-01-11 10:01:17  \n",
       "1       14        1  2019-01-11 10:01:17  \n",
       "2       13        5  2019-01-11 10:01:17  \n",
       "3       13        2  2019-01-11 10:01:17  \n",
       "4       21        7  2019-01-11 10:01:17  "
      ]
     },
     "execution_count": 5,
     "metadata": {},
     "output_type": "execute_result"
    }
   ],
   "source": [
    "dados.head()"
   ]
  },
  {
   "cell_type": "code",
   "execution_count": 6,
   "metadata": {},
   "outputs": [
    {
     "data": {
      "text/html": [
       "<div>\n",
       "<style scoped>\n",
       "    .dataframe tbody tr th:only-of-type {\n",
       "        vertical-align: middle;\n",
       "    }\n",
       "\n",
       "    .dataframe tbody tr th {\n",
       "        vertical-align: top;\n",
       "    }\n",
       "\n",
       "    .dataframe thead th {\n",
       "        text-align: right;\n",
       "    }\n",
       "</style>\n",
       "<table border=\"1\" class=\"dataframe\">\n",
       "  <thead>\n",
       "    <tr style=\"text-align: right;\">\n",
       "      <th></th>\n",
       "      <th>userId</th>\n",
       "      <th>management</th>\n",
       "      <th>countSD</th>\n",
       "      <th>countSE</th>\n",
       "      <th>countID</th>\n",
       "      <th>countIE</th>\n",
       "    </tr>\n",
       "  </thead>\n",
       "  <tbody>\n",
       "    <tr>\n",
       "      <th>count</th>\n",
       "      <td>310.000000</td>\n",
       "      <td>310.000000</td>\n",
       "      <td>310.000000</td>\n",
       "      <td>310.000000</td>\n",
       "      <td>310.000000</td>\n",
       "      <td>310.000000</td>\n",
       "    </tr>\n",
       "    <tr>\n",
       "      <th>mean</th>\n",
       "      <td>166.774194</td>\n",
       "      <td>8429.190323</td>\n",
       "      <td>9.106452</td>\n",
       "      <td>10.993548</td>\n",
       "      <td>9.974194</td>\n",
       "      <td>9.919355</td>\n",
       "    </tr>\n",
       "    <tr>\n",
       "      <th>std</th>\n",
       "      <td>103.834013</td>\n",
       "      <td>1265.842966</td>\n",
       "      <td>4.133487</td>\n",
       "      <td>4.297206</td>\n",
       "      <td>4.317419</td>\n",
       "      <td>3.697714</td>\n",
       "    </tr>\n",
       "    <tr>\n",
       "      <th>min</th>\n",
       "      <td>2.000000</td>\n",
       "      <td>0.000000</td>\n",
       "      <td>1.000000</td>\n",
       "      <td>1.000000</td>\n",
       "      <td>1.000000</td>\n",
       "      <td>0.000000</td>\n",
       "    </tr>\n",
       "    <tr>\n",
       "      <th>25%</th>\n",
       "      <td>79.250000</td>\n",
       "      <td>7423.000000</td>\n",
       "      <td>6.000000</td>\n",
       "      <td>8.000000</td>\n",
       "      <td>7.000000</td>\n",
       "      <td>7.000000</td>\n",
       "    </tr>\n",
       "    <tr>\n",
       "      <th>50%</th>\n",
       "      <td>157.500000</td>\n",
       "      <td>8558.000000</td>\n",
       "      <td>8.000000</td>\n",
       "      <td>11.000000</td>\n",
       "      <td>10.000000</td>\n",
       "      <td>10.000000</td>\n",
       "    </tr>\n",
       "    <tr>\n",
       "      <th>75%</th>\n",
       "      <td>235.750000</td>\n",
       "      <td>9101.000000</td>\n",
       "      <td>11.000000</td>\n",
       "      <td>15.000000</td>\n",
       "      <td>13.000000</td>\n",
       "      <td>12.000000</td>\n",
       "    </tr>\n",
       "    <tr>\n",
       "      <th>max</th>\n",
       "      <td>356.000000</td>\n",
       "      <td>9984.000000</td>\n",
       "      <td>27.000000</td>\n",
       "      <td>21.000000</td>\n",
       "      <td>25.000000</td>\n",
       "      <td>20.000000</td>\n",
       "    </tr>\n",
       "  </tbody>\n",
       "</table>\n",
       "</div>"
      ],
      "text/plain": [
       "           userId   management     countSD     countSE     countID     countIE\n",
       "count  310.000000   310.000000  310.000000  310.000000  310.000000  310.000000\n",
       "mean   166.774194  8429.190323    9.106452   10.993548    9.974194    9.919355\n",
       "std    103.834013  1265.842966    4.133487    4.297206    4.317419    3.697714\n",
       "min      2.000000     0.000000    1.000000    1.000000    1.000000    0.000000\n",
       "25%     79.250000  7423.000000    6.000000    8.000000    7.000000    7.000000\n",
       "50%    157.500000  8558.000000    8.000000   11.000000   10.000000   10.000000\n",
       "75%    235.750000  9101.000000   11.000000   15.000000   13.000000   12.000000\n",
       "max    356.000000  9984.000000   27.000000   21.000000   25.000000   20.000000"
      ]
     },
     "execution_count": 6,
     "metadata": {},
     "output_type": "execute_result"
    }
   ],
   "source": [
    "dados.describe()"
   ]
  },
  {
   "cell_type": "code",
   "execution_count": 7,
   "metadata": {},
   "outputs": [
    {
     "data": {
      "text/plain": [
       "pandas.core.frame.DataFrame"
      ]
     },
     "execution_count": 7,
     "metadata": {},
     "output_type": "execute_result"
    }
   ],
   "source": [
    "type(dados)"
   ]
  },
  {
   "cell_type": "code",
   "execution_count": 8,
   "metadata": {},
   "outputs": [
    {
     "name": "stdout",
     "output_type": "stream",
     "text": [
      "['Max Pinheiro' 'MARCELO SCHARMACH' 'Juliana' 'Leonardo Meneses de Lima'\n",
      " 'Alessandra Camargo Vieira']\n"
     ]
    }
   ],
   "source": [
    "print(dados['userName'].values[0:5])"
   ]
  },
  {
   "cell_type": "code",
   "execution_count": 9,
   "metadata": {},
   "outputs": [
    {
     "data": {
      "text/plain": [
       "310"
      ]
     },
     "execution_count": 9,
     "metadata": {},
     "output_type": "execute_result"
    }
   ],
   "source": [
    "len(dados)"
   ]
  },
  {
   "cell_type": "markdown",
   "metadata": {},
   "source": [
    "<h4>Seprando os dados de treinamento</h4>"
   ]
  },
  {
   "cell_type": "code",
   "execution_count": 10,
   "metadata": {},
   "outputs": [],
   "source": [
    "#serão utilizados apenas as características consideradas relevantes\n",
    "dados_array = []\n",
    "\n",
    "for x in range(0,len(dados)):\n",
    "    lista = []\n",
    "    lista.append(dados['countSD'].values[x])\n",
    "    lista.append(dados['countSE'].values[x])\n",
    "    lista.append(dados['countID'].values[x])\n",
    "    lista.append(dados['countIE'].values[x])\n",
    "    dados_array.append(lista)\n",
    "\n",
    "#outra forma de separar os dados:\n",
    "#dados.iloc[:,4:8]"
   ]
  },
  {
   "cell_type": "code",
   "execution_count": 11,
   "metadata": {},
   "outputs": [
    {
     "name": "stdout",
     "output_type": "stream",
     "text": [
      "[[6, 16, 6, 12], [22, 3, 14, 1], [14, 8, 13, 5], [20, 5, 13, 2], [9, 3, 21, 7], [6, 15, 8, 11], [16, 6, 10, 8], [9, 10, 13, 8], [6, 6, 20, 8], [17, 12, 9, 2], [13, 17, 4, 6], [10, 11, 7, 12], [11, 13, 7, 9], [5, 4, 20, 11], [10, 15, 8, 7], [12, 8, 11, 9], [8, 13, 11, 8], [8, 14, 7, 11], [6, 7, 8, 19], [15, 1, 21, 3], [5, 16, 14, 5], [14, 11, 10, 5], [10, 9, 13, 8], [5, 13, 16, 6], [10, 6, 9, 15], [18, 5, 10, 7], [11, 7, 14, 8], [14, 5, 12, 9], [7, 8, 18, 7], [7, 5, 21, 7], [9, 15, 8, 8], [7, 19, 5, 9], [6, 9, 19, 6], [5, 11, 12, 12], [9, 16, 4, 11], [20, 6, 9, 5], [5, 14, 6, 15], [7, 7, 19, 7], [7, 16, 9, 8], [6, 12, 11, 11], [5, 7, 12, 16], [3, 15, 6, 16], [10, 10, 14, 7], [11, 11, 12, 6], [9, 11, 13, 7], [13, 13, 8, 6], [13, 6, 15, 6], [9, 16, 7, 8], [8, 16, 7, 9], [8, 10, 12, 10], [9, 8, 14, 9], [9, 8, 18, 5], [11, 9, 4, 16], [10, 4, 20, 6], [18, 3, 15, 4], [4, 13, 16, 7], [9, 11, 10, 10], [13, 6, 13, 8], [13, 6, 10, 11], [3, 9, 15, 13], [4, 9, 13, 14], [7, 7, 11, 15], [7, 9, 12, 12], [15, 7, 13, 5], [15, 6, 14, 5], [9, 14, 10, 7], [12, 10, 11, 7], [14, 9, 11, 6], [4, 16, 5, 15], [15, 3, 14, 8], [9, 10, 9, 12], [7, 11, 8, 14], [4, 12, 7, 17], [7, 20, 3, 10], [4, 15, 13, 8], [9, 4, 22, 5], [8, 9, 9, 14], [8, 12, 12, 8], [4, 5, 13, 18], [8, 12, 11, 9], [9, 17, 6, 8], [13, 10, 12, 5], [7, 13, 9, 11], [9, 17, 5, 9], [8, 10, 14, 8], [9, 16, 6, 9], [3, 18, 5, 14], [7, 17, 10, 6], [9, 5, 16, 10], [10, 8, 10, 12], [6, 7, 16, 11], [13, 11, 8, 8], [14, 7, 13, 6], [21, 8, 5, 6], [4, 12, 8, 16], [12, 11, 7, 10], [7, 6, 19, 8], [13, 8, 11, 8], [9, 4, 17, 10], [8, 8, 13, 11], [15, 12, 8, 5], [15, 13, 6, 6], [15, 6, 11, 8], [8, 14, 7, 11], [7, 16, 10, 7], [6, 13, 10, 11], [10, 11, 9, 10], [4, 13, 11, 12], [7, 15, 12, 6], [13, 13, 7, 7], [10, 8, 12, 10], [11, 13, 10, 6], [10, 14, 7, 9], [7, 17, 5, 11], [7, 11, 5, 17], [10, 15, 11, 4], [8, 15, 5, 12], [18, 6, 9, 7], [11, 10, 4, 15], [8, 3, 20, 9], [4, 13, 13, 10], [6, 16, 9, 9], [11, 13, 4, 12], [9, 11, 11, 9], [6, 11, 12, 11], [9, 12, 6, 13], [10, 6, 13, 11], [5, 8, 14, 13], [8, 12, 10, 10], [5, 8, 11, 16], [8, 15, 8, 9], [8, 18, 7, 7], [8, 17, 7, 8], [9, 8, 12, 11], [16, 14, 3, 7], [12, 6, 13, 9], [9, 16, 3, 12], [13, 12, 9, 6], [7, 14, 7, 12], [11, 12, 9, 8], [12, 8, 11, 9], [14, 9, 11, 6], [6, 15, 13, 6], [11, 16, 6, 7], [5, 9, 6, 20], [7, 12, 10, 11], [9, 15, 5, 11], [17, 3, 14, 6], [11, 9, 13, 7], [17, 15, 1, 7], [7, 11, 10, 12], [7, 18, 8, 7], [11, 5, 13, 11], [11, 11, 8, 10], [13, 16, 5, 6], [15, 13, 8, 4], [11, 9, 7, 13], [6, 15, 14, 5], [14, 5, 16, 5], [5, 13, 12, 10], [10, 13, 11, 6], [8, 1, 25, 6], [7, 17, 8, 8], [2, 10, 9, 19], [4, 17, 4, 15], [6, 8, 16, 10], [6, 16, 4, 14], [7, 4, 14, 15], [10, 11, 11, 8], [13, 7, 12, 8], [19, 6, 12, 3], [13, 16, 3, 8], [10, 14, 4, 12], [7, 9, 13, 11], [5, 12, 9, 14], [12, 10, 10, 8], [13, 4, 17, 6], [4, 10, 10, 16], [3, 16, 3, 18], [9, 5, 13, 13], [12, 9, 6, 13], [3, 14, 3, 20], [8, 19, 3, 10], [5, 8, 12, 15], [5, 8, 9, 18], [12, 12, 7, 9], [8, 12, 12, 8], [5, 15, 3, 17], [4, 18, 4, 14], [5, 15, 10, 10], [9, 8, 15, 8], [5, 8, 14, 13], [5, 10, 7, 18], [4, 12, 11, 13], [4, 16, 9, 11], [9, 12, 8, 11], [7, 8, 12, 13], [7, 15, 6, 12], [4, 12, 6, 18], [11, 6, 16, 7], [7, 13, 9, 11], [10, 15, 6, 9], [6, 8, 8, 18], [9, 11, 11, 9], [4, 16, 10, 10], [11, 11, 14, 4], [8, 6, 11, 15], [4, 20, 5, 12], [3, 9, 13, 15], [7, 10, 13, 10], [5, 11, 10, 14], [10, 17, 3, 10], [11, 11, 5, 13], [15, 13, 6, 6], [8, 8, 14, 10], [19, 4, 11, 6], [8, 7, 13, 12], [10, 10, 13, 7], [8, 18, 4, 10], [10, 14, 8, 8], [17, 7, 9, 7], [15, 7, 13, 5], [10, 6, 11, 13], [27, 5, 8, 0], [15, 13, 3, 9], [5, 10, 8, 17], [15, 11, 8, 6], [5, 11, 8, 14], [7, 14, 10, 9], [8, 10, 11, 11], [8, 6, 15, 11], [1, 15, 10, 14], [9, 15, 9, 7], [18, 13, 5, 4], [8, 15, 5, 12], [2, 14, 10, 14], [7, 8, 10, 15], [10, 11, 8, 11], [15, 10, 4, 11], [6, 16, 9, 9], [6, 13, 4, 17], [13, 5, 13, 9], [13, 17, 4, 6], [5, 15, 6, 14], [5, 17, 5, 13], [21, 1, 13, 5], [7, 17, 8, 8], [5, 8, 14, 13], [8, 9, 12, 11], [7, 15, 9, 9], [6, 20, 4, 10], [6, 6, 17, 10], [8, 12, 8, 12], [8, 11, 13, 8], [13, 8, 13, 6], [14, 14, 3, 9], [6, 14, 8, 12], [12, 10, 10, 8], [9, 9, 11, 11], [14, 11, 5, 10], [14, 17, 3, 6], [2, 6, 21, 11], [3, 20, 4, 13], [6, 10, 13, 11], [14, 17, 3, 6], [4, 15, 10, 11], [12, 6, 12, 10], [9, 7, 15, 9], [8, 8, 11, 13], [11, 13, 5, 11], [3, 14, 15, 8], [7, 12, 12, 8], [5, 15, 7, 13], [7, 12, 2, 19], [7, 11, 10, 12], [8, 7, 7, 18], [3, 21, 5, 11], [5, 18, 7, 10], [4, 10, 17, 9], [7, 16, 9, 8], [7, 8, 10, 15], [13, 4, 16, 7], [2, 13, 9, 16], [8, 15, 5, 12], [6, 16, 6, 12], [13, 9, 13, 5], [5, 8, 16, 11], [11, 4, 9, 16], [10, 5, 13, 12], [11, 4, 18, 7], [10, 7, 15, 8], [18, 10, 3, 9], [5, 7, 12, 16], [9, 8, 14, 9], [10, 12, 8, 10], [7, 14, 12, 7], [15, 12, 8, 5], [3, 13, 6, 18], [13, 17, 5, 5], [16, 3, 10, 11], [6, 11, 12, 11], [10, 17, 5, 8], [7, 5, 16, 12], [10, 10, 10, 10], [9, 15, 7, 9], [8, 18, 6, 8], [5, 19, 3, 13], [10, 3, 14, 13], [9, 16, 5, 10], [14, 17, 3, 6]]\n"
     ]
    }
   ],
   "source": [
    "print(dados_array)"
   ]
  },
  {
   "cell_type": "markdown",
   "metadata": {},
   "source": [
    "<h4>Criando o modelo com K-means</h4>"
   ]
  },
  {
   "cell_type": "code",
   "execution_count": 12,
   "metadata": {},
   "outputs": [],
   "source": [
    "#criação do modelo\n",
    "kmeans = KMeans(n_clusters=4, init='k-means++', n_init=10, random_state=None)"
   ]
  },
  {
   "cell_type": "code",
   "execution_count": 13,
   "metadata": {},
   "outputs": [],
   "source": [
    "#atribuir os resultados(classes) a uma coluna 'clusters'\n",
    "dados['clusters'] = kmeans.fit_predict(dados_array)"
   ]
  },
  {
   "cell_type": "code",
   "execution_count": 14,
   "metadata": {},
   "outputs": [
    {
     "name": "stdout",
     "output_type": "stream",
     "text": [
      "0      1\n",
      "1      3\n",
      "2      3\n",
      "3      3\n",
      "4      0\n",
      "5      1\n",
      "6      3\n",
      "7      0\n",
      "8      0\n",
      "9      3\n",
      "10     1\n",
      "11     1\n",
      "12     1\n",
      "13     0\n",
      "14     1\n",
      "15     3\n",
      "16     1\n",
      "17     1\n",
      "18     2\n",
      "19     3\n",
      "20     0\n",
      "21     3\n",
      "22     0\n",
      "23     0\n",
      "24     2\n",
      "25     3\n",
      "26     0\n",
      "27     3\n",
      "28     0\n",
      "29     0\n",
      "      ..\n",
      "280    2\n",
      "281    3\n",
      "282    2\n",
      "283    1\n",
      "284    1\n",
      "285    3\n",
      "286    0\n",
      "287    2\n",
      "288    0\n",
      "289    0\n",
      "290    0\n",
      "291    3\n",
      "292    2\n",
      "293    0\n",
      "294    1\n",
      "295    1\n",
      "296    3\n",
      "297    2\n",
      "298    1\n",
      "299    3\n",
      "300    0\n",
      "301    1\n",
      "302    0\n",
      "303    0\n",
      "304    1\n",
      "305    1\n",
      "306    1\n",
      "307    0\n",
      "308    1\n",
      "309    1\n",
      "Name: clusters, Length: 310, dtype: int32\n"
     ]
    }
   ],
   "source": [
    "print(dados['clusters'])"
   ]
  },
  {
   "cell_type": "code",
   "execution_count": 15,
   "metadata": {},
   "outputs": [
    {
     "data": {
      "text/plain": [
       "1    110\n",
       "0     88\n",
       "3     57\n",
       "2     55\n",
       "Name: clusters, dtype: int64"
      ]
     },
     "execution_count": 15,
     "metadata": {},
     "output_type": "execute_result"
    }
   ],
   "source": [
    "#resumo da coluna\n",
    "dados['clusters'].value_counts()"
   ]
  },
  {
   "cell_type": "code",
   "execution_count": 16,
   "metadata": {},
   "outputs": [
    {
     "data": {
      "text/plain": [
       "1    0.354839\n",
       "0    0.283871\n",
       "3    0.183871\n",
       "2    0.177419\n",
       "Name: clusters, dtype: float64"
      ]
     },
     "execution_count": 16,
     "metadata": {},
     "output_type": "execute_result"
    }
   ],
   "source": [
    "#resumo da coluna, visão % percentual\n",
    "dados['clusters'].value_counts(normalize=True)"
   ]
  },
  {
   "cell_type": "code",
   "execution_count": 17,
   "metadata": {},
   "outputs": [
    {
     "data": {
      "text/html": [
       "<div>\n",
       "<style scoped>\n",
       "    .dataframe tbody tr th:only-of-type {\n",
       "        vertical-align: middle;\n",
       "    }\n",
       "\n",
       "    .dataframe tbody tr th {\n",
       "        vertical-align: top;\n",
       "    }\n",
       "\n",
       "    .dataframe thead th {\n",
       "        text-align: right;\n",
       "    }\n",
       "</style>\n",
       "<table border=\"1\" class=\"dataframe\">\n",
       "  <thead>\n",
       "    <tr style=\"text-align: right;\">\n",
       "      <th></th>\n",
       "      <th>userId</th>\n",
       "      <th>userName</th>\n",
       "      <th>userCode</th>\n",
       "      <th>management</th>\n",
       "      <th>countSD</th>\n",
       "      <th>countSE</th>\n",
       "      <th>countID</th>\n",
       "      <th>countIE</th>\n",
       "      <th>dataRegistro</th>\n",
       "      <th>clusters</th>\n",
       "    </tr>\n",
       "  </thead>\n",
       "  <tbody>\n",
       "    <tr>\n",
       "      <th>0</th>\n",
       "      <td>2</td>\n",
       "      <td>Max Pinheiro</td>\n",
       "      <td>F7098849</td>\n",
       "      <td>8969</td>\n",
       "      <td>6</td>\n",
       "      <td>16</td>\n",
       "      <td>6</td>\n",
       "      <td>12</td>\n",
       "      <td>2019-01-11 10:01:17</td>\n",
       "      <td>1</td>\n",
       "    </tr>\n",
       "    <tr>\n",
       "      <th>1</th>\n",
       "      <td>3</td>\n",
       "      <td>MARCELO SCHARMACH</td>\n",
       "      <td>F6771265</td>\n",
       "      <td>8969</td>\n",
       "      <td>22</td>\n",
       "      <td>3</td>\n",
       "      <td>14</td>\n",
       "      <td>1</td>\n",
       "      <td>2019-01-11 10:01:17</td>\n",
       "      <td>3</td>\n",
       "    </tr>\n",
       "    <tr>\n",
       "      <th>2</th>\n",
       "      <td>4</td>\n",
       "      <td>Juliana</td>\n",
       "      <td>F6002194</td>\n",
       "      <td>8969</td>\n",
       "      <td>14</td>\n",
       "      <td>8</td>\n",
       "      <td>13</td>\n",
       "      <td>5</td>\n",
       "      <td>2019-01-11 10:01:17</td>\n",
       "      <td>3</td>\n",
       "    </tr>\n",
       "    <tr>\n",
       "      <th>3</th>\n",
       "      <td>5</td>\n",
       "      <td>Leonardo Meneses de Lima</td>\n",
       "      <td>f6210447</td>\n",
       "      <td>8558</td>\n",
       "      <td>20</td>\n",
       "      <td>5</td>\n",
       "      <td>13</td>\n",
       "      <td>2</td>\n",
       "      <td>2019-01-11 10:01:17</td>\n",
       "      <td>3</td>\n",
       "    </tr>\n",
       "    <tr>\n",
       "      <th>4</th>\n",
       "      <td>6</td>\n",
       "      <td>Alessandra Camargo Vieira</td>\n",
       "      <td>f0427258</td>\n",
       "      <td>8558</td>\n",
       "      <td>9</td>\n",
       "      <td>3</td>\n",
       "      <td>21</td>\n",
       "      <td>7</td>\n",
       "      <td>2019-01-11 10:01:17</td>\n",
       "      <td>0</td>\n",
       "    </tr>\n",
       "  </tbody>\n",
       "</table>\n",
       "</div>"
      ],
      "text/plain": [
       "   userId                   userName  userCode  management  countSD  countSE  \\\n",
       "0       2               Max Pinheiro  F7098849        8969        6       16   \n",
       "1       3          MARCELO SCHARMACH  F6771265        8969       22        3   \n",
       "2       4                    Juliana  F6002194        8969       14        8   \n",
       "3       5   Leonardo Meneses de Lima  f6210447        8558       20        5   \n",
       "4       6  Alessandra Camargo Vieira  f0427258        8558        9        3   \n",
       "\n",
       "   countID  countIE         dataRegistro  clusters  \n",
       "0        6       12  2019-01-11 10:01:17         1  \n",
       "1       14        1  2019-01-11 10:01:17         3  \n",
       "2       13        5  2019-01-11 10:01:17         3  \n",
       "3       13        2  2019-01-11 10:01:17         3  \n",
       "4       21        7  2019-01-11 10:01:17         0  "
      ]
     },
     "execution_count": 17,
     "metadata": {},
     "output_type": "execute_result"
    }
   ],
   "source": [
    "dados.head()"
   ]
  },
  {
   "cell_type": "code",
   "execution_count": 130,
   "metadata": {},
   "outputs": [],
   "source": [
    "#salvando os dados\n",
    "dados.to_csv('C:/Developer/base_teste_hbdi_clusterizado.csv')"
   ]
  },
  {
   "cell_type": "markdown",
   "metadata": {},
   "source": [
    "<h4>Padronizando os dados</h4>\n",
    "\n",
    "<p>É importante padronizar os dados antes de aplicar o PCA.< /br>\n",
    " O <strong>StandardScaler</strong> vai ajudar a padronizar em conjunto de escalas, onde média = 0 e variância = 1.</p>"
   ]
  },
  {
   "cell_type": "code",
   "execution_count": 18,
   "metadata": {},
   "outputs": [],
   "source": [
    "from sklearn.preprocessing import StandardScaler"
   ]
  },
  {
   "cell_type": "code",
   "execution_count": 19,
   "metadata": {},
   "outputs": [],
   "source": [
    "standard = StandardScaler().fit_transform(dados_array)"
   ]
  },
  {
   "cell_type": "code",
   "execution_count": 22,
   "metadata": {},
   "outputs": [
    {
     "name": "stdout",
     "output_type": "stream",
     "text": [
      "[[-0.75274794  1.16693181 -0.92199041  0.56359397]\n",
      " [ 3.12433386 -1.86318107  0.93396431 -2.41602688]\n",
      " [ 1.18579296 -0.69775304  0.70196997 -1.33252839]\n",
      " ...\n",
      " [ 0.21652251 -1.86318107  0.93396431  0.8344686 ]\n",
      " [-0.0257951   1.16693181 -1.15398475  0.02184473]\n",
      " [ 1.18579296  1.40001741 -1.61797343 -1.06165376]]\n"
     ]
    }
   ],
   "source": [
    "print(standard)"
   ]
  },
  {
   "cell_type": "markdown",
   "metadata": {},
   "source": [
    "<h4>Projeção PCA em 2D</h4>\n",
    "<p>O dataset original tem 4 colunas (features) que serão reduzidas a 2 dimencionalidades. < /br>\n",
    "Os novos componentes são as duas <strong>principais</strong> dimensões.\n",
    "</p>"
   ]
  },
  {
   "cell_type": "code",
   "execution_count": 25,
   "metadata": {},
   "outputs": [],
   "source": [
    "from sklearn.decomposition import PCA"
   ]
  },
  {
   "cell_type": "code",
   "execution_count": 27,
   "metadata": {},
   "outputs": [],
   "source": [
    "#dois componentes principais\n",
    "pca = PCA(n_components=2)"
   ]
  },
  {
   "cell_type": "code",
   "execution_count": 29,
   "metadata": {},
   "outputs": [],
   "source": [
    "#os componentes principais são gerados a partir dos dados padronizados\n",
    "componentes_principais = pca.fit_transform(standard)"
   ]
  },
  {
   "cell_type": "code",
   "execution_count": 31,
   "metadata": {},
   "outputs": [],
   "source": [
    "#transformar os componentes principais em um dataFrame, usando o Pandas\n",
    "df_principal = pd.DataFrame(data = componentes_principais, columns = ['Compo_Principais_1','Compo_Principais_2'])"
   ]
  },
  {
   "cell_type": "code",
   "execution_count": 33,
   "metadata": {
    "scrolled": true
   },
   "outputs": [
    {
     "data": {
      "text/html": [
       "<div>\n",
       "<style scoped>\n",
       "    .dataframe tbody tr th:only-of-type {\n",
       "        vertical-align: middle;\n",
       "    }\n",
       "\n",
       "    .dataframe tbody tr th {\n",
       "        vertical-align: top;\n",
       "    }\n",
       "\n",
       "    .dataframe thead th {\n",
       "        text-align: right;\n",
       "    }\n",
       "</style>\n",
       "<table border=\"1\" class=\"dataframe\">\n",
       "  <thead>\n",
       "    <tr style=\"text-align: right;\">\n",
       "      <th></th>\n",
       "      <th>Compo_Principais_1</th>\n",
       "      <th>Compo_Principais_2</th>\n",
       "    </tr>\n",
       "  </thead>\n",
       "  <tbody>\n",
       "    <tr>\n",
       "      <th>0</th>\n",
       "      <td>-1.720475</td>\n",
       "      <td>0.304171</td>\n",
       "    </tr>\n",
       "    <tr>\n",
       "      <th>1</th>\n",
       "      <td>4.127837</td>\n",
       "      <td>1.586645</td>\n",
       "    </tr>\n",
       "    <tr>\n",
       "      <th>2</th>\n",
       "      <td>1.934907</td>\n",
       "      <td>0.625774</td>\n",
       "    </tr>\n",
       "    <tr>\n",
       "      <th>3</th>\n",
       "      <td>3.398546</td>\n",
       "      <td>1.513626</td>\n",
       "    </tr>\n",
       "    <tr>\n",
       "      <th>4</th>\n",
       "      <td>2.648828</td>\n",
       "      <td>-1.781165</td>\n",
       "    </tr>\n",
       "  </tbody>\n",
       "</table>\n",
       "</div>"
      ],
      "text/plain": [
       "   Compo_Principais_1  Compo_Principais_2\n",
       "0           -1.720475            0.304171\n",
       "1            4.127837            1.586645\n",
       "2            1.934907            0.625774\n",
       "3            3.398546            1.513626\n",
       "4            2.648828           -1.781165"
      ]
     },
     "execution_count": 33,
     "metadata": {},
     "output_type": "execute_result"
    }
   ],
   "source": [
    "df_principal.head()"
   ]
  },
  {
   "cell_type": "code",
   "execution_count": 35,
   "metadata": {},
   "outputs": [],
   "source": [
    "#concatenando as marcações aos componentes principais, ao longo do eixo 1 \n",
    "df_final = pd.concat([df_principal,dados['clusters']], axis=1)"
   ]
  },
  {
   "cell_type": "code",
   "execution_count": 36,
   "metadata": {},
   "outputs": [
    {
     "data": {
      "text/html": [
       "<div>\n",
       "<style scoped>\n",
       "    .dataframe tbody tr th:only-of-type {\n",
       "        vertical-align: middle;\n",
       "    }\n",
       "\n",
       "    .dataframe tbody tr th {\n",
       "        vertical-align: top;\n",
       "    }\n",
       "\n",
       "    .dataframe thead th {\n",
       "        text-align: right;\n",
       "    }\n",
       "</style>\n",
       "<table border=\"1\" class=\"dataframe\">\n",
       "  <thead>\n",
       "    <tr style=\"text-align: right;\">\n",
       "      <th></th>\n",
       "      <th>Compo_Principais_1</th>\n",
       "      <th>Compo_Principais_2</th>\n",
       "      <th>clusters</th>\n",
       "    </tr>\n",
       "  </thead>\n",
       "  <tbody>\n",
       "    <tr>\n",
       "      <th>0</th>\n",
       "      <td>-1.720475</td>\n",
       "      <td>0.304171</td>\n",
       "      <td>1</td>\n",
       "    </tr>\n",
       "    <tr>\n",
       "      <th>1</th>\n",
       "      <td>4.127837</td>\n",
       "      <td>1.586645</td>\n",
       "      <td>3</td>\n",
       "    </tr>\n",
       "    <tr>\n",
       "      <th>2</th>\n",
       "      <td>1.934907</td>\n",
       "      <td>0.625774</td>\n",
       "      <td>3</td>\n",
       "    </tr>\n",
       "    <tr>\n",
       "      <th>3</th>\n",
       "      <td>3.398546</td>\n",
       "      <td>1.513626</td>\n",
       "      <td>3</td>\n",
       "    </tr>\n",
       "    <tr>\n",
       "      <th>4</th>\n",
       "      <td>2.648828</td>\n",
       "      <td>-1.781165</td>\n",
       "      <td>0</td>\n",
       "    </tr>\n",
       "  </tbody>\n",
       "</table>\n",
       "</div>"
      ],
      "text/plain": [
       "   Compo_Principais_1  Compo_Principais_2  clusters\n",
       "0           -1.720475            0.304171         1\n",
       "1            4.127837            1.586645         3\n",
       "2            1.934907            0.625774         3\n",
       "3            3.398546            1.513626         3\n",
       "4            2.648828           -1.781165         0"
      ]
     },
     "execution_count": 36,
     "metadata": {},
     "output_type": "execute_result"
    }
   ],
   "source": [
    "df_final.head()"
   ]
  },
  {
   "cell_type": "markdown",
   "metadata": {},
   "source": [
    "<h4>Projeção 2D</h4>\n",
    "<p>Visualização dos dados em 2 dimensões.</p>"
   ]
  },
  {
   "cell_type": "markdown",
   "metadata": {},
   "source": [
    "<h5>Características do Gráfico</h5>"
   ]
  },
  {
   "cell_type": "code",
   "execution_count": 44,
   "metadata": {},
   "outputs": [
    {
     "data": {
      "image/png": "[encoded data removed]",
      "text/plain": [
       "<Figure size 720x720 with 1 Axes>"
      ]
     },
     "metadata": {
      "needs_background": "light"
     },
     "output_type": "display_data"
    }
   ],
   "source": [
    "#tamanho do gráfico\n",
    "grafico = plt.figure(figsize=(10,10))#largura e altura\n",
    "\n",
    "#n_linhas, n_colunas, indices\n",
    "eixo = grafico.add_subplot(1,1,1)\n",
    "\n",
    "#rótulo do eixo X\n",
    "eixo.set_xlabel('Componentes Principais 1', fontsize=12)\n",
    "\n",
    "#rótulo do eixo y\n",
    "eixo.set_ylabel('Componentes Principais 2', fontsize=12)\n",
    "\n",
    "#título\n",
    "eixo.set_title('2D Componentes Principais PCA', fontsize=15)\n",
    "\n",
    "#legendas - referente aos clusters\n",
    "legendas = [0, 1, 2, 3]\n",
    "\n",
    "#cores da legenda\n",
    "cores = ['r','g','b', 'o']\n",
    "\n",
    "#percorrer as duas sequências de elementos\n",
    "for legenda, cor in zip(legendas, cores):\n",
    "    indice = df_final['clusters'] == legenda\n",
    "    eixo.scatter(df_final.loc[indice, 'Compo_Principais_1']\n",
    "                ,df_final.loc[indice, 'Compo_Principais_2']\n",
    "                #, c = cores #cores\n",
    "                , s=50)#scala\n",
    "eixo.legend(legendas)#legendas\n",
    "eixo.grid()#grades"
   ]
  },
  {
   "cell_type": "markdown",
   "metadata": {},
   "source": [
    "<h3>Conclusão</h3>\n",
    "\n",
    "<p><strong>A aplicação do modelo</strong>, para agrupar pessoas de acordo com seus perfis comportamentais, <strong>têm se mostrado efetiva</strong>.\n",
    " Ainda que poucos testes reais tenham sido realizados e não obstante a necessidade da inclusão de outras variáveis,<strong> o modelo é visto por profissionais consultados e que são responsáveis pela construção de equipes como muito promissor, visto que facilita o trabalho de composição de times</strong>.</p>\n",
    " \n",
    "<p>O modelo pode ser apremimorado, como dito acima, incluindo mais variáveis e outras características das pessoas que possam ser usadas (ética, responsabilidade, comunicação etc), ou ainda experimentando e comparando outros métodos de clusterização.</p>\n",
    "\n",
    "<p><strong>Outras possibilidades de aplicação</strong></p>\n",
    "\n",
    "<p>Além de ajudar na formação de equipes, o modelo, com os devidos aprimoramentos, tem potencial para ser usado em seleções de candidatos, na alocação de pessoas com determinados perfis para vagas que exijam skills mapeados ou ainda na otimização de recursos financeiros, como por exemplo: identificar que são as pessoas certas para um treinamento.</p>\n"
   ]
  }
 ],
 "metadata": {
  "kernelspec": {
   "display_name": "Python 3",
   "language": "python",
   "name": "python3"
  },
  "language_info": {
   "codemirror_mode": {
    "name": "ipython",
    "version": 3
   },
   "file_extension": ".py",
   "mimetype": "text/x-python",
   "name": "python",
   "nbconvert_exporter": "python",
   "pygments_lexer": "ipython3",
   "version": "3.7.1"
  }
 },
 "nbformat": 4,
 "nbformat_minor": 2
}
